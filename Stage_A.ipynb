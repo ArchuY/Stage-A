{
  "nbformat": 4,
  "nbformat_minor": 0,
  "metadata": {
    "colab": {
      "name": "Stage_A.ipynb",
      "provenance": [],
      "authorship_tag": "ABX9TyM85hav3nfbSLTA17qTuUoQ",
      "include_colab_link": true
    },
    "kernelspec": {
      "name": "python3",
      "display_name": "Python 3"
    },
    "language_info": {
      "name": "python"
    }
  },
  "cells": [
    {
      "cell_type": "markdown",
      "metadata": {
        "id": "view-in-github",
        "colab_type": "text"
      },
      "source": [
        "<a href=\"https://colab.research.google.com/github/ArchuY/Stage-A/blob/main/Stage_A.ipynb\" target=\"_parent\"><img src=\"https://colab.research.google.com/assets/colab-badge.svg\" alt=\"Open In Colab\"/></a>"
      ]
    },
    {
      "cell_type": "markdown",
      "source": [
        "# Food Balance Dataset"
      ],
      "metadata": {
        "id": "a1F_xBrG_cnD"
      }
    },
    {
      "cell_type": "markdown",
      "source": [
        "#### Hamoye ID: 147eb872a001f000"
      ],
      "metadata": {
        "id": "l96Ef1H9KEBa"
      }
    },
    {
      "cell_type": "code",
      "source": [
        "import numpy as np\n",
        "import pandas as pd\n",
        "import matplotlib.pyplot as plt\n",
        "import seaborn as sns"
      ],
      "metadata": {
        "id": "-lywvEOI9w_e"
      },
      "execution_count": null,
      "outputs": []
    },
    {
      "cell_type": "code",
      "execution_count": null,
      "metadata": {
        "id": "nhL6Nq1p5fdz"
      },
      "outputs": [],
      "source": [
        "ds = pd.read_csv('/content/FoodBalanceSheets_E_Africa_NOFLAG.csv', encoding = 'latin-1')"
      ]
    },
    {
      "cell_type": "code",
      "source": [
        "ds.head()"
      ],
      "metadata": {
        "colab": {
          "base_uri": "https://localhost:8080/",
          "height": 206
        },
        "id": "MIsor3k99_5_",
        "outputId": "48259b79-29ec-4570-9ec4-1ffba870638b"
      },
      "execution_count": null,
      "outputs": [
        {
          "output_type": "execute_result",
          "data": {
            "text/html": [
              "\n",
              "  <div id=\"df-6753c2f5-9bcb-4bad-80b9-7a6bdb4d8938\">\n",
              "    <div class=\"colab-df-container\">\n",
              "      <div>\n",
              "<style scoped>\n",
              "    .dataframe tbody tr th:only-of-type {\n",
              "        vertical-align: middle;\n",
              "    }\n",
              "\n",
              "    .dataframe tbody tr th {\n",
              "        vertical-align: top;\n",
              "    }\n",
              "\n",
              "    .dataframe thead th {\n",
              "        text-align: right;\n",
              "    }\n",
              "</style>\n",
              "<table border=\"1\" class=\"dataframe\">\n",
              "  <thead>\n",
              "    <tr style=\"text-align: right;\">\n",
              "      <th></th>\n",
              "      <th>Area Code</th>\n",
              "      <th>Area</th>\n",
              "      <th>Item Code</th>\n",
              "      <th>Item</th>\n",
              "      <th>Element Code</th>\n",
              "      <th>Element</th>\n",
              "      <th>Unit</th>\n",
              "      <th>Y2014</th>\n",
              "      <th>Y2015</th>\n",
              "      <th>Y2016</th>\n",
              "      <th>Y2017</th>\n",
              "      <th>Y2018</th>\n",
              "    </tr>\n",
              "  </thead>\n",
              "  <tbody>\n",
              "    <tr>\n",
              "      <th>0</th>\n",
              "      <td>4</td>\n",
              "      <td>Algeria</td>\n",
              "      <td>2501</td>\n",
              "      <td>Population</td>\n",
              "      <td>511</td>\n",
              "      <td>Total Population - Both sexes</td>\n",
              "      <td>1000 persons</td>\n",
              "      <td>38924.00</td>\n",
              "      <td>39728.00</td>\n",
              "      <td>40551.00</td>\n",
              "      <td>41389.00</td>\n",
              "      <td>42228.00</td>\n",
              "    </tr>\n",
              "    <tr>\n",
              "      <th>1</th>\n",
              "      <td>4</td>\n",
              "      <td>Algeria</td>\n",
              "      <td>2501</td>\n",
              "      <td>Population</td>\n",
              "      <td>5301</td>\n",
              "      <td>Domestic supply quantity</td>\n",
              "      <td>1000 tonnes</td>\n",
              "      <td>0.00</td>\n",
              "      <td>0.00</td>\n",
              "      <td>0.00</td>\n",
              "      <td>0.00</td>\n",
              "      <td>0.00</td>\n",
              "    </tr>\n",
              "    <tr>\n",
              "      <th>2</th>\n",
              "      <td>4</td>\n",
              "      <td>Algeria</td>\n",
              "      <td>2901</td>\n",
              "      <td>Grand Total</td>\n",
              "      <td>664</td>\n",
              "      <td>Food supply (kcal/capita/day)</td>\n",
              "      <td>kcal/capita/day</td>\n",
              "      <td>3377.00</td>\n",
              "      <td>3379.00</td>\n",
              "      <td>3372.00</td>\n",
              "      <td>3341.00</td>\n",
              "      <td>3322.00</td>\n",
              "    </tr>\n",
              "    <tr>\n",
              "      <th>3</th>\n",
              "      <td>4</td>\n",
              "      <td>Algeria</td>\n",
              "      <td>2901</td>\n",
              "      <td>Grand Total</td>\n",
              "      <td>674</td>\n",
              "      <td>Protein supply quantity (g/capita/day)</td>\n",
              "      <td>g/capita/day</td>\n",
              "      <td>94.90</td>\n",
              "      <td>94.35</td>\n",
              "      <td>94.72</td>\n",
              "      <td>92.82</td>\n",
              "      <td>91.83</td>\n",
              "    </tr>\n",
              "    <tr>\n",
              "      <th>4</th>\n",
              "      <td>4</td>\n",
              "      <td>Algeria</td>\n",
              "      <td>2901</td>\n",
              "      <td>Grand Total</td>\n",
              "      <td>684</td>\n",
              "      <td>Fat supply quantity (g/capita/day)</td>\n",
              "      <td>g/capita/day</td>\n",
              "      <td>80.06</td>\n",
              "      <td>79.36</td>\n",
              "      <td>77.40</td>\n",
              "      <td>80.19</td>\n",
              "      <td>77.28</td>\n",
              "    </tr>\n",
              "  </tbody>\n",
              "</table>\n",
              "</div>\n",
              "      <button class=\"colab-df-convert\" onclick=\"convertToInteractive('df-6753c2f5-9bcb-4bad-80b9-7a6bdb4d8938')\"\n",
              "              title=\"Convert this dataframe to an interactive table.\"\n",
              "              style=\"display:none;\">\n",
              "        \n",
              "  <svg xmlns=\"http://www.w3.org/2000/svg\" height=\"24px\"viewBox=\"0 0 24 24\"\n",
              "       width=\"24px\">\n",
              "    <path d=\"M0 0h24v24H0V0z\" fill=\"none\"/>\n",
              "    <path d=\"M18.56 5.44l.94 2.06.94-2.06 2.06-.94-2.06-.94-.94-2.06-.94 2.06-2.06.94zm-11 1L8.5 8.5l.94-2.06 2.06-.94-2.06-.94L8.5 2.5l-.94 2.06-2.06.94zm10 10l.94 2.06.94-2.06 2.06-.94-2.06-.94-.94-2.06-.94 2.06-2.06.94z\"/><path d=\"M17.41 7.96l-1.37-1.37c-.4-.4-.92-.59-1.43-.59-.52 0-1.04.2-1.43.59L10.3 9.45l-7.72 7.72c-.78.78-.78 2.05 0 2.83L4 21.41c.39.39.9.59 1.41.59.51 0 1.02-.2 1.41-.59l7.78-7.78 2.81-2.81c.8-.78.8-2.07 0-2.86zM5.41 20L4 18.59l7.72-7.72 1.47 1.35L5.41 20z\"/>\n",
              "  </svg>\n",
              "      </button>\n",
              "      \n",
              "  <style>\n",
              "    .colab-df-container {\n",
              "      display:flex;\n",
              "      flex-wrap:wrap;\n",
              "      gap: 12px;\n",
              "    }\n",
              "\n",
              "    .colab-df-convert {\n",
              "      background-color: #E8F0FE;\n",
              "      border: none;\n",
              "      border-radius: 50%;\n",
              "      cursor: pointer;\n",
              "      display: none;\n",
              "      fill: #1967D2;\n",
              "      height: 32px;\n",
              "      padding: 0 0 0 0;\n",
              "      width: 32px;\n",
              "    }\n",
              "\n",
              "    .colab-df-convert:hover {\n",
              "      background-color: #E2EBFA;\n",
              "      box-shadow: 0px 1px 2px rgba(60, 64, 67, 0.3), 0px 1px 3px 1px rgba(60, 64, 67, 0.15);\n",
              "      fill: #174EA6;\n",
              "    }\n",
              "\n",
              "    [theme=dark] .colab-df-convert {\n",
              "      background-color: #3B4455;\n",
              "      fill: #D2E3FC;\n",
              "    }\n",
              "\n",
              "    [theme=dark] .colab-df-convert:hover {\n",
              "      background-color: #434B5C;\n",
              "      box-shadow: 0px 1px 3px 1px rgba(0, 0, 0, 0.15);\n",
              "      filter: drop-shadow(0px 1px 2px rgba(0, 0, 0, 0.3));\n",
              "      fill: #FFFFFF;\n",
              "    }\n",
              "  </style>\n",
              "\n",
              "      <script>\n",
              "        const buttonEl =\n",
              "          document.querySelector('#df-6753c2f5-9bcb-4bad-80b9-7a6bdb4d8938 button.colab-df-convert');\n",
              "        buttonEl.style.display =\n",
              "          google.colab.kernel.accessAllowed ? 'block' : 'none';\n",
              "\n",
              "        async function convertToInteractive(key) {\n",
              "          const element = document.querySelector('#df-6753c2f5-9bcb-4bad-80b9-7a6bdb4d8938');\n",
              "          const dataTable =\n",
              "            await google.colab.kernel.invokeFunction('convertToInteractive',\n",
              "                                                     [key], {});\n",
              "          if (!dataTable) return;\n",
              "\n",
              "          const docLinkHtml = 'Like what you see? Visit the ' +\n",
              "            '<a target=\"_blank\" href=https://colab.research.google.com/notebooks/data_table.ipynb>data table notebook</a>'\n",
              "            + ' to learn more about interactive tables.';\n",
              "          element.innerHTML = '';\n",
              "          dataTable['output_type'] = 'display_data';\n",
              "          await google.colab.output.renderOutput(dataTable, element);\n",
              "          const docLink = document.createElement('div');\n",
              "          docLink.innerHTML = docLinkHtml;\n",
              "          element.appendChild(docLink);\n",
              "        }\n",
              "      </script>\n",
              "    </div>\n",
              "  </div>\n",
              "  "
            ],
            "text/plain": [
              "   Area Code     Area  Item Code  ...     Y2016     Y2017     Y2018\n",
              "0          4  Algeria       2501  ...  40551.00  41389.00  42228.00\n",
              "1          4  Algeria       2501  ...      0.00      0.00      0.00\n",
              "2          4  Algeria       2901  ...   3372.00   3341.00   3322.00\n",
              "3          4  Algeria       2901  ...     94.72     92.82     91.83\n",
              "4          4  Algeria       2901  ...     77.40     80.19     77.28\n",
              "\n",
              "[5 rows x 12 columns]"
            ]
          },
          "metadata": {},
          "execution_count": 6
        }
      ]
    },
    {
      "cell_type": "code",
      "source": [
        "ds.describe()"
      ],
      "metadata": {
        "colab": {
          "base_uri": "https://localhost:8080/",
          "height": 300
        },
        "id": "5tGbAmLZ-JUa",
        "outputId": "4a36cf70-08e1-4d38-c2c2-fb43a330618e"
      },
      "execution_count": null,
      "outputs": [
        {
          "output_type": "execute_result",
          "data": {
            "text/html": [
              "\n",
              "  <div id=\"df-e1ecad0a-142a-43e3-a882-b73e7e77a984\">\n",
              "    <div class=\"colab-df-container\">\n",
              "      <div>\n",
              "<style scoped>\n",
              "    .dataframe tbody tr th:only-of-type {\n",
              "        vertical-align: middle;\n",
              "    }\n",
              "\n",
              "    .dataframe tbody tr th {\n",
              "        vertical-align: top;\n",
              "    }\n",
              "\n",
              "    .dataframe thead th {\n",
              "        text-align: right;\n",
              "    }\n",
              "</style>\n",
              "<table border=\"1\" class=\"dataframe\">\n",
              "  <thead>\n",
              "    <tr style=\"text-align: right;\">\n",
              "      <th></th>\n",
              "      <th>Area Code</th>\n",
              "      <th>Item Code</th>\n",
              "      <th>Element Code</th>\n",
              "      <th>Y2014</th>\n",
              "      <th>Y2015</th>\n",
              "      <th>Y2016</th>\n",
              "      <th>Y2017</th>\n",
              "      <th>Y2018</th>\n",
              "    </tr>\n",
              "  </thead>\n",
              "  <tbody>\n",
              "    <tr>\n",
              "      <th>count</th>\n",
              "      <td>60943.000000</td>\n",
              "      <td>60943.000000</td>\n",
              "      <td>60943.000000</td>\n",
              "      <td>59354.000000</td>\n",
              "      <td>59395.000000</td>\n",
              "      <td>59408.000000</td>\n",
              "      <td>59437.000000</td>\n",
              "      <td>59507.000000</td>\n",
              "    </tr>\n",
              "    <tr>\n",
              "      <th>mean</th>\n",
              "      <td>134.265576</td>\n",
              "      <td>2687.176706</td>\n",
              "      <td>3814.856456</td>\n",
              "      <td>134.196282</td>\n",
              "      <td>135.235966</td>\n",
              "      <td>136.555222</td>\n",
              "      <td>140.917765</td>\n",
              "      <td>143.758381</td>\n",
              "    </tr>\n",
              "    <tr>\n",
              "      <th>std</th>\n",
              "      <td>72.605709</td>\n",
              "      <td>146.055739</td>\n",
              "      <td>2212.007033</td>\n",
              "      <td>1567.663696</td>\n",
              "      <td>1603.403984</td>\n",
              "      <td>1640.007194</td>\n",
              "      <td>1671.862359</td>\n",
              "      <td>1710.782658</td>\n",
              "    </tr>\n",
              "    <tr>\n",
              "      <th>min</th>\n",
              "      <td>4.000000</td>\n",
              "      <td>2501.000000</td>\n",
              "      <td>511.000000</td>\n",
              "      <td>-1796.000000</td>\n",
              "      <td>-3161.000000</td>\n",
              "      <td>-3225.000000</td>\n",
              "      <td>-1582.000000</td>\n",
              "      <td>-3396.000000</td>\n",
              "    </tr>\n",
              "    <tr>\n",
              "      <th>25%</th>\n",
              "      <td>74.000000</td>\n",
              "      <td>2562.000000</td>\n",
              "      <td>684.000000</td>\n",
              "      <td>0.000000</td>\n",
              "      <td>0.000000</td>\n",
              "      <td>0.000000</td>\n",
              "      <td>0.000000</td>\n",
              "      <td>0.000000</td>\n",
              "    </tr>\n",
              "    <tr>\n",
              "      <th>50%</th>\n",
              "      <td>136.000000</td>\n",
              "      <td>2630.000000</td>\n",
              "      <td>5142.000000</td>\n",
              "      <td>0.090000</td>\n",
              "      <td>0.080000</td>\n",
              "      <td>0.080000</td>\n",
              "      <td>0.100000</td>\n",
              "      <td>0.070000</td>\n",
              "    </tr>\n",
              "    <tr>\n",
              "      <th>75%</th>\n",
              "      <td>195.000000</td>\n",
              "      <td>2775.000000</td>\n",
              "      <td>5511.000000</td>\n",
              "      <td>8.340000</td>\n",
              "      <td>8.460000</td>\n",
              "      <td>8.430000</td>\n",
              "      <td>9.000000</td>\n",
              "      <td>9.000000</td>\n",
              "    </tr>\n",
              "    <tr>\n",
              "      <th>max</th>\n",
              "      <td>276.000000</td>\n",
              "      <td>2961.000000</td>\n",
              "      <td>5911.000000</td>\n",
              "      <td>176405.000000</td>\n",
              "      <td>181137.000000</td>\n",
              "      <td>185960.000000</td>\n",
              "      <td>190873.000000</td>\n",
              "      <td>195875.000000</td>\n",
              "    </tr>\n",
              "  </tbody>\n",
              "</table>\n",
              "</div>\n",
              "      <button class=\"colab-df-convert\" onclick=\"convertToInteractive('df-e1ecad0a-142a-43e3-a882-b73e7e77a984')\"\n",
              "              title=\"Convert this dataframe to an interactive table.\"\n",
              "              style=\"display:none;\">\n",
              "        \n",
              "  <svg xmlns=\"http://www.w3.org/2000/svg\" height=\"24px\"viewBox=\"0 0 24 24\"\n",
              "       width=\"24px\">\n",
              "    <path d=\"M0 0h24v24H0V0z\" fill=\"none\"/>\n",
              "    <path d=\"M18.56 5.44l.94 2.06.94-2.06 2.06-.94-2.06-.94-.94-2.06-.94 2.06-2.06.94zm-11 1L8.5 8.5l.94-2.06 2.06-.94-2.06-.94L8.5 2.5l-.94 2.06-2.06.94zm10 10l.94 2.06.94-2.06 2.06-.94-2.06-.94-.94-2.06-.94 2.06-2.06.94z\"/><path d=\"M17.41 7.96l-1.37-1.37c-.4-.4-.92-.59-1.43-.59-.52 0-1.04.2-1.43.59L10.3 9.45l-7.72 7.72c-.78.78-.78 2.05 0 2.83L4 21.41c.39.39.9.59 1.41.59.51 0 1.02-.2 1.41-.59l7.78-7.78 2.81-2.81c.8-.78.8-2.07 0-2.86zM5.41 20L4 18.59l7.72-7.72 1.47 1.35L5.41 20z\"/>\n",
              "  </svg>\n",
              "      </button>\n",
              "      \n",
              "  <style>\n",
              "    .colab-df-container {\n",
              "      display:flex;\n",
              "      flex-wrap:wrap;\n",
              "      gap: 12px;\n",
              "    }\n",
              "\n",
              "    .colab-df-convert {\n",
              "      background-color: #E8F0FE;\n",
              "      border: none;\n",
              "      border-radius: 50%;\n",
              "      cursor: pointer;\n",
              "      display: none;\n",
              "      fill: #1967D2;\n",
              "      height: 32px;\n",
              "      padding: 0 0 0 0;\n",
              "      width: 32px;\n",
              "    }\n",
              "\n",
              "    .colab-df-convert:hover {\n",
              "      background-color: #E2EBFA;\n",
              "      box-shadow: 0px 1px 2px rgba(60, 64, 67, 0.3), 0px 1px 3px 1px rgba(60, 64, 67, 0.15);\n",
              "      fill: #174EA6;\n",
              "    }\n",
              "\n",
              "    [theme=dark] .colab-df-convert {\n",
              "      background-color: #3B4455;\n",
              "      fill: #D2E3FC;\n",
              "    }\n",
              "\n",
              "    [theme=dark] .colab-df-convert:hover {\n",
              "      background-color: #434B5C;\n",
              "      box-shadow: 0px 1px 3px 1px rgba(0, 0, 0, 0.15);\n",
              "      filter: drop-shadow(0px 1px 2px rgba(0, 0, 0, 0.3));\n",
              "      fill: #FFFFFF;\n",
              "    }\n",
              "  </style>\n",
              "\n",
              "      <script>\n",
              "        const buttonEl =\n",
              "          document.querySelector('#df-e1ecad0a-142a-43e3-a882-b73e7e77a984 button.colab-df-convert');\n",
              "        buttonEl.style.display =\n",
              "          google.colab.kernel.accessAllowed ? 'block' : 'none';\n",
              "\n",
              "        async function convertToInteractive(key) {\n",
              "          const element = document.querySelector('#df-e1ecad0a-142a-43e3-a882-b73e7e77a984');\n",
              "          const dataTable =\n",
              "            await google.colab.kernel.invokeFunction('convertToInteractive',\n",
              "                                                     [key], {});\n",
              "          if (!dataTable) return;\n",
              "\n",
              "          const docLinkHtml = 'Like what you see? Visit the ' +\n",
              "            '<a target=\"_blank\" href=https://colab.research.google.com/notebooks/data_table.ipynb>data table notebook</a>'\n",
              "            + ' to learn more about interactive tables.';\n",
              "          element.innerHTML = '';\n",
              "          dataTable['output_type'] = 'display_data';\n",
              "          await google.colab.output.renderOutput(dataTable, element);\n",
              "          const docLink = document.createElement('div');\n",
              "          docLink.innerHTML = docLinkHtml;\n",
              "          element.appendChild(docLink);\n",
              "        }\n",
              "      </script>\n",
              "    </div>\n",
              "  </div>\n",
              "  "
            ],
            "text/plain": [
              "          Area Code     Item Code  ...          Y2017          Y2018\n",
              "count  60943.000000  60943.000000  ...   59437.000000   59507.000000\n",
              "mean     134.265576   2687.176706  ...     140.917765     143.758381\n",
              "std       72.605709    146.055739  ...    1671.862359    1710.782658\n",
              "min        4.000000   2501.000000  ...   -1582.000000   -3396.000000\n",
              "25%       74.000000   2562.000000  ...       0.000000       0.000000\n",
              "50%      136.000000   2630.000000  ...       0.100000       0.070000\n",
              "75%      195.000000   2775.000000  ...       9.000000       9.000000\n",
              "max      276.000000   2961.000000  ...  190873.000000  195875.000000\n",
              "\n",
              "[8 rows x 8 columns]"
            ]
          },
          "metadata": {},
          "execution_count": 7
        }
      ]
    },
    {
      "cell_type": "code",
      "source": [
        "# check dataset contain NULL values or not\n",
        "ds.isnull().sum()"
      ],
      "metadata": {
        "colab": {
          "base_uri": "https://localhost:8080/"
        },
        "id": "9v0W4rGc_zlF",
        "outputId": "eafa8bc2-f567-4ec7-e08e-02d1032319d8"
      },
      "execution_count": null,
      "outputs": [
        {
          "output_type": "execute_result",
          "data": {
            "text/plain": [
              "Area Code          0\n",
              "Area               0\n",
              "Item Code          0\n",
              "Item               0\n",
              "Element Code       0\n",
              "Element            0\n",
              "Unit               0\n",
              "Y2014           1589\n",
              "Y2015           1548\n",
              "Y2016           1535\n",
              "Y2017           1506\n",
              "Y2018           1436\n",
              "dtype: int64"
            ]
          },
          "metadata": {},
          "execution_count": 8
        }
      ]
    },
    {
      "cell_type": "code",
      "source": [
        "# Remove the rows which contains NULL value\n",
        "ds.dropna(axis = 0, inplace = True)"
      ],
      "metadata": {
        "id": "w0LauePs_4dI"
      },
      "execution_count": null,
      "outputs": []
    },
    {
      "cell_type": "code",
      "source": [
        "# check dataset not contain any NULL values\n",
        "ds.notnull().sum()"
      ],
      "metadata": {
        "colab": {
          "base_uri": "https://localhost:8080/"
        },
        "id": "LQvM9W9cAELA",
        "outputId": "22f015e4-c5fd-4840-cc42-bb81a0702c9d"
      },
      "execution_count": null,
      "outputs": [
        {
          "output_type": "execute_result",
          "data": {
            "text/plain": [
              "Area Code       57784\n",
              "Area            57784\n",
              "Item Code       57784\n",
              "Item            57784\n",
              "Element Code    57784\n",
              "Element         57784\n",
              "Unit            57784\n",
              "Y2014           57784\n",
              "Y2015           57784\n",
              "Y2016           57784\n",
              "Y2017           57784\n",
              "Y2018           57784\n",
              "dtype: int64"
            ]
          },
          "metadata": {},
          "execution_count": 10
        }
      ]
    },
    {
      "cell_type": "code",
      "source": [
        "# for unique values\n",
        "for i in ds.columns:\n",
        "  print(i,'\\n', ds[i].unique())               "
      ],
      "metadata": {
        "colab": {
          "base_uri": "https://localhost:8080/"
        },
        "id": "cN2Gd3LbAHs_",
        "outputId": "c34f8fff-e726-4fc1-eb63-0d1040f7d884"
      },
      "execution_count": null,
      "outputs": [
        {
          "output_type": "stream",
          "name": "stdout",
          "text": [
            "Area Code \n",
            " [  4   7  53  20 233  35  32  37  39  45  46 107  72  59 209 238  62  74\n",
            "  75  81  90 175 114 122 123 129 130 133 136 137 143 144 147 158 159 184\n",
            " 193 195 196 197 202 276 206 217 222 226 215 251 181]\n",
            "Area \n",
            " ['Algeria' 'Angola' 'Benin' 'Botswana' 'Burkina Faso' 'Cabo Verde'\n",
            " 'Cameroon' 'Central African Republic' 'Chad' 'Comoros' 'Congo'\n",
            " \"Côte d'Ivoire\" 'Djibouti' 'Egypt' 'Eswatini' 'Ethiopia' 'Ethiopia PDR'\n",
            " 'Gabon' 'Gambia' 'Ghana' 'Guinea' 'Guinea-Bissau' 'Kenya' 'Lesotho'\n",
            " 'Liberia' 'Madagascar' 'Malawi' 'Mali' 'Mauritania' 'Mauritius' 'Morocco'\n",
            " 'Mozambique' 'Namibia' 'Niger' 'Nigeria' 'Rwanda' 'Sao Tome and Principe'\n",
            " 'Senegal' 'Seychelles' 'Sierra Leone' 'South Africa' 'Sudan'\n",
            " 'Sudan (former)' 'Togo' 'Tunisia' 'Uganda' 'United Republic of Tanzania'\n",
            " 'Zambia' 'Zimbabwe']\n",
            "Item Code \n",
            " [2501 2901 2903 2941 2905 2511 2805 2513 2514 2515 2516 2517 2518 2520\n",
            " 2907 2532 2531 2533 2534 2908 2537 2909 2542 2543 2745 2911 2546 2547\n",
            " 2549 2912 2551 2913 2555 2556 2557 2558 2559 2560 2561 2563 2570 2914\n",
            " 2571 2572 2573 2574 2575 2576 2577 2578 2579 2580 2582 2586 2918 2601\n",
            " 2602 2605 2919 2611 2612 2613 2614 2615 2616 2617 2618 2619 2620 2625\n",
            " 2922 2630 2633 2635 2923 2640 2641 2642 2645 2924 2655 2656 2657 2658\n",
            " 2659 2943 2731 2732 2733 2734 2735 2945 2736 2946 2740 2737 2781 2782\n",
            " 2949 2744 2948 2848 2960 2761 2762 2763 2764 2765 2766 2767 2961 2769\n",
            " 2775 2928 2680 2899 2536 2541 2562 2581 2743 2535]\n",
            "Item \n",
            " ['Population' 'Grand Total' 'Vegetal Products' 'Animal Products'\n",
            " 'Cereals - Excluding Beer' 'Wheat and products' 'Rice and products'\n",
            " 'Barley and products' 'Maize and products' 'Rye and products' 'Oats'\n",
            " 'Millet and products' 'Sorghum and products' 'Cereals, Other'\n",
            " 'Starchy Roots' 'Cassava and products' 'Potatoes and products'\n",
            " 'Sweet potatoes' 'Roots, Other' 'Sugar Crops' 'Sugar beet'\n",
            " 'Sugar & Sweeteners' 'Sugar (Raw Equivalent)' 'Sweeteners, Other' 'Honey'\n",
            " 'Pulses' 'Beans' 'Peas' 'Pulses, Other and products' 'Treenuts'\n",
            " 'Nuts and products' 'Oilcrops' 'Soyabeans' 'Groundnuts (Shelled Eq)'\n",
            " 'Sunflower seed' 'Rape and Mustardseed' 'Cottonseed'\n",
            " 'Coconuts - Incl Copra' 'Sesame seed' 'Olives (including preserved)'\n",
            " 'Oilcrops, Other' 'Vegetable Oils' 'Soyabean Oil' 'Groundnut Oil'\n",
            " 'Sunflowerseed Oil' 'Rape and Mustard Oil' 'Cottonseed Oil'\n",
            " 'Palmkernel Oil' 'Palm Oil' 'Coconut Oil' 'Sesameseed Oil' 'Olive Oil'\n",
            " 'Maize Germ Oil' 'Oilcrops Oil, Other' 'Vegetables'\n",
            " 'Tomatoes and products' 'Onions' 'Vegetables, Other'\n",
            " 'Fruits - Excluding Wine' 'Oranges, Mandarines'\n",
            " 'Lemons, Limes and products' 'Grapefruit and products' 'Citrus, Other'\n",
            " 'Bananas' 'Plantains' 'Apples and products' 'Pineapples and products'\n",
            " 'Dates' 'Grapes and products (excl wine)' 'Fruits, Other' 'Stimulants'\n",
            " 'Coffee and products' 'Cocoa Beans and products' 'Tea (including mate)'\n",
            " 'Spices' 'Pepper' 'Pimento' 'Cloves' 'Spices, Other'\n",
            " 'Alcoholic Beverages' 'Wine' 'Beer' 'Beverages, Fermented'\n",
            " 'Beverages, Alcoholic' 'Alcohol, Non-Food' 'Meat' 'Bovine Meat'\n",
            " 'Mutton & Goat Meat' 'Pigmeat' 'Poultry Meat' 'Meat, Other' 'Offals'\n",
            " 'Offals, Edible' 'Animal fats' 'Butter, Ghee' 'Fats, Animals, Raw'\n",
            " 'Fish, Body Oil' 'Fish, Liver Oil' 'Eggs' 'Milk - Excluding Butter'\n",
            " 'Fish, Seafood' 'Freshwater Fish' 'Demersal Fish' 'Pelagic Fish'\n",
            " 'Marine Fish, Other' 'Crustaceans' 'Cephalopods' 'Molluscs, Other'\n",
            " 'Aquatic Products, Other' 'Aquatic Animals, Others' 'Aquatic Plants'\n",
            " 'Miscellaneous' 'Infant food' 'Sugar cane' 'Sugar non-centrifugal'\n",
            " 'Palm kernels' 'Ricebran Oil' 'Cream' 'Yams']\n",
            "Element Code \n",
            " [ 511 5301  664  674  684 5511 5611 5072 5911 5521 5527 5123 5131 5154\n",
            " 5170 5142  645 5171]\n",
            "Element \n",
            " ['Total Population - Both sexes' 'Domestic supply quantity'\n",
            " 'Food supply (kcal/capita/day)' 'Protein supply quantity (g/capita/day)'\n",
            " 'Fat supply quantity (g/capita/day)' 'Production' 'Import Quantity'\n",
            " 'Stock Variation' 'Export Quantity' 'Feed' 'Seed' 'Losses' 'Processing'\n",
            " 'Other uses (non-food)' 'Residuals' 'Food'\n",
            " 'Food supply quantity (kg/capita/yr)' 'Tourist consumption']\n",
            "Unit \n",
            " ['1000 persons' '1000 tonnes' 'kcal/capita/day' 'g/capita/day' 'kg']\n",
            "Y2014 \n",
            " [3.8924e+04 0.0000e+00 3.3770e+03 ... 3.5200e+01 5.3310e+01 2.8900e+01]\n",
            "Y2015 \n",
            " [3.9728e+04 0.0000e+00 3.3790e+03 ... 5.2830e+01 2.6350e+01 1.9310e+01]\n",
            "Y2016 \n",
            " [4.0551e+04 0.0000e+00 3.3720e+03 ... 5.3160e+01 3.2150e+01 1.9450e+01]\n",
            "Y2017 \n",
            " [4.1389e+04 0.0000e+00 3.3410e+03 ... 2.0790e+01 1.9410e+01 1.8760e+01]\n",
            "Y2018 \n",
            " [4.2228e+04 0.0000e+00 3.3220e+03 ... 2.9530e+01 2.0790e+01 1.8760e+01]\n"
          ]
        }
      ]
    },
    {
      "cell_type": "code",
      "source": [
        "# count the unique number of values\n",
        "for i in ds.columns:\n",
        "  print(i,'\\n',pd.DataFrame(ds[i].unique()).count())"
      ],
      "metadata": {
        "colab": {
          "base_uri": "https://localhost:8080/"
        },
        "id": "7qp1_6u0Be6t",
        "outputId": "5fb978c4-2c83-441a-f853-4d76d5cef871"
      },
      "execution_count": null,
      "outputs": [
        {
          "output_type": "stream",
          "name": "stdout",
          "text": [
            "Area Code \n",
            " 0    49\n",
            "dtype: int64\n",
            "Area \n",
            " 0    49\n",
            "dtype: int64\n",
            "Item Code \n",
            " 0    122\n",
            "dtype: int64\n",
            "Item \n",
            " 0    119\n",
            "dtype: int64\n",
            "Element Code \n",
            " 0    18\n",
            "dtype: int64\n",
            "Element \n",
            " 0    18\n",
            "dtype: int64\n",
            "Unit \n",
            " 0    5\n",
            "dtype: int64\n",
            "Y2014 \n",
            " 0    4493\n",
            "dtype: int64\n",
            "Y2015 \n",
            " 0    4520\n",
            "dtype: int64\n",
            "Y2016 \n",
            " 0    4520\n",
            "dtype: int64\n",
            "Y2017 \n",
            " 0    4537\n",
            "dtype: int64\n",
            "Y2018 \n",
            " 0    4591\n",
            "dtype: int64\n"
          ]
        }
      ]
    },
    {
      "cell_type": "code",
      "source": [
        "def boxplot(column):\n",
        "    sns.boxplot(data=ds,x=ds[f\"{column}\"])\n",
        "    plt.title(f\"{column}\")\n",
        "    plt.show()\n",
        "    \n",
        "    \n",
        "boxplot('Area Code')\n",
        "boxplot('Item Code')\n",
        "boxplot('Element Code')\n",
        "boxplot('Y2014')\n",
        "boxplot('Y2015')\n",
        "\n",
        "boxplot('Y2016')\n",
        "boxplot('Y2017')\n",
        "boxplot('Y2018')\n"
      ],
      "metadata": {
        "colab": {
          "base_uri": "https://localhost:8080/",
          "height": 1000
        },
        "id": "RYz4ndhzDB4J",
        "outputId": "a60d5a9e-e750-4a34-f136-d164a8ed18b7"
      },
      "execution_count": null,
      "outputs": [
        {
          "output_type": "display_data",
          "data": {
            "image/png": "[encoded data removed]",
            "text/plain": [
              "<Figure size 432x288 with 1 Axes>"
            ]
          },
          "metadata": {
            "needs_background": "light"
          }
        },
        {
          "output_type": "display_data",
          "data": {
            "image/png": "[encoded data removed]",
            "text/plain": [
              "<Figure size 432x288 with 1 Axes>"
            ]
          },
          "metadata": {
            "needs_background": "light"
          }
        },
        {
          "output_type": "display_data",
          "data": {
            "image/png": "[encoded data removed]",
            "text/plain": [
              "<Figure size 432x288 with 1 Axes>"
            ]
          },
          "metadata": {
            "needs_background": "light"
          }
        },
        {
          "output_type": "display_data",
          "data": {
            "image/png": "[encoded data removed]",
            "text/plain": [
              "<Figure size 432x288 with 1 Axes>"
            ]
          },
          "metadata": {
            "needs_background": "light"
          }
        },
        {
          "output_type": "display_data",
          "data": {
            "image/png": "[encoded data removed]",
            "text/plain": [
              "<Figure size 432x288 with 1 Axes>"
            ]
          },
          "metadata": {
            "needs_background": "light"
          }
        },
        {
          "output_type": "display_data",
          "data": {
            "image/png": "[encoded data removed]",
            "text/plain": [
              "<Figure size 432x288 with 1 Axes>"
            ]
          },
          "metadata": {
            "needs_background": "light"
          }
        },
        {
          "output_type": "display_data",
          "data": {
            "image/png": "[encoded data removed]",
            "text/plain": [
              "<Figure size 432x288 with 1 Axes>"
            ]
          },
          "metadata": {
            "needs_background": "light"
          }
        },
        {
          "output_type": "display_data",
          "data": {
            "image/png": "[encoded data removed]",
            "text/plain": [
              "<Figure size 432x288 with 1 Axes>"
            ]
          },
          "metadata": {
            "needs_background": "light"
          }
        }
      ]
    },
    {
      "cell_type": "code",
      "source": [
        ""
      ],
      "metadata": {
        "id": "nqoHWBwhEpMA"
      },
      "execution_count": null,
      "outputs": []
    }
  ]
}